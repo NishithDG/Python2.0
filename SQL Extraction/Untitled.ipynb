{
 "cells": [
  {
   "cell_type": "code",
   "execution_count": 18,
   "id": "8e013fec",
   "metadata": {},
   "outputs": [
    {
     "ename": "TypeError",
     "evalue": "'builtin_function_or_method' object is not subscriptable",
     "output_type": "error",
     "traceback": [
      "\u001b[1;31m---------------------------------------------------------------------------\u001b[0m",
      "\u001b[1;31mTypeError\u001b[0m                                 Traceback (most recent call last)",
      "Input \u001b[1;32mIn [18]\u001b[0m, in \u001b[0;36m<cell line: 39>\u001b[1;34m()\u001b[0m\n\u001b[0;32m     33\u001b[0m                     local_dictionary[\u001b[38;5;124m\"\u001b[39m\u001b[38;5;124mtarget_table_name\u001b[39m\u001b[38;5;124m\"\u001b[39m]\u001b[38;5;241m.\u001b[39mappend({\n\u001b[0;32m     34\u001b[0m                         \u001b[38;5;124m\"\u001b[39m\u001b[38;5;124mtype\u001b[39m\u001b[38;5;124m\"\u001b[39m:types,\n\u001b[0;32m     35\u001b[0m                         \u001b[38;5;124m\"\u001b[39m\u001b[38;5;124mname\u001b[39m\u001b[38;5;124m\"\u001b[39m:table_name\n\u001b[0;32m     36\u001b[0m                     })\n\u001b[0;32m     37\u001b[0m         json_list\u001b[38;5;241m.\u001b[39mappend(local_dictionary)\n\u001b[1;32m---> 39\u001b[0m json_file \u001b[38;5;241m=\u001b[39m \u001b[43mfilename\u001b[49m\u001b[38;5;241;43m.\u001b[39;49m\u001b[43mreplace\u001b[49m\u001b[43m[\u001b[49m\u001b[38;5;124;43m'\u001b[39;49m\u001b[38;5;124;43m.sql\u001b[39;49m\u001b[38;5;124;43m'\u001b[39;49m\u001b[43m,\u001b[49m\u001b[38;5;124;43m'\u001b[39;49m\u001b[38;5;124;43m.json\u001b[39;49m\u001b[38;5;124;43m'\u001b[39;49m\u001b[43m]\u001b[49m\n\u001b[0;32m     40\u001b[0m \u001b[38;5;28;01mwith\u001b[39;00m \u001b[38;5;28mopen\u001b[39m(json_file,\u001b[38;5;124m'\u001b[39m\u001b[38;5;124mw\u001b[39m\u001b[38;5;124m'\u001b[39m) \u001b[38;5;28;01mas\u001b[39;00m wf:\n\u001b[0;32m     41\u001b[0m     json\u001b[38;5;241m.\u001b[39mdump(json_list,wf,indent\u001b[38;5;241m=\u001b[39m\u001b[38;5;241m3\u001b[39m)\n",
      "\u001b[1;31mTypeError\u001b[0m: 'builtin_function_or_method' object is not subscriptable"
     ]
    }
   ],
   "source": [
    "import json\n",
    "import re\n",
    "import os\n",
    "\n",
    "filename = os.path.basename('sample_stored_procedure.sql')\n",
    "\n",
    "sql = open(filename,'r')\n",
    "sql_string = sql.read()\n",
    "    \n",
    "query_array = sql_string.split(';')\n",
    "json_list = []\n",
    "code_id = 1\n",
    "\n",
    "for each_query in query_array:\n",
    "    query_type = each_query.strip().split(' ')[0]\n",
    "    local_dictionary = {\n",
    "        \"statement_id\":code_id,\n",
    "        \"statement_type\":query_type,\n",
    "        \"target_table_name\":[]\n",
    "    }\n",
    "    \n",
    "    statements = each_query.splitlines()\n",
    "    for statement in statements:\n",
    "        for types in [\"FROM\",\"JOIN\"]:\n",
    "                if statement.find(types) != -1:\n",
    "                    table_name = statement.strip().split(types)[1]\n",
    "                    if table_name.find(\" \")!= -1:\n",
    "                        table_name\n",
    "                        \n",
    "                    if table_name.find(\".\")!= -1:\n",
    "                        table_name = statement.strip().split(\".\")[0]\n",
    "                        \n",
    "                    local_dictionary[\"target_table_name\"].append({\n",
    "                        \"type\":types,\n",
    "                        \"name\":table_name\n",
    "                    })\n",
    "        json_list.append(local_dictionary)\n",
    "        \n",
    "json_file = filename.replace('.sql','.json')\n",
    "with open(json_file,'w') as wf:\n",
    "    json.dump(json_list,wf,indent=3)\n",
    "    print(file_json)"
   ]
  },
  {
   "cell_type": "code",
   "execution_count": null,
   "id": "36caf51f",
   "metadata": {},
   "outputs": [],
   "source": []
  },
  {
   "cell_type": "code",
   "execution_count": null,
   "id": "38ff5ca5",
   "metadata": {},
   "outputs": [],
   "source": []
  }
 ],
 "metadata": {
  "kernelspec": {
   "display_name": "Python 3 (ipykernel)",
   "language": "python",
   "name": "python3"
  },
  "language_info": {
   "codemirror_mode": {
    "name": "ipython",
    "version": 3
   },
   "file_extension": ".py",
   "mimetype": "text/x-python",
   "name": "python",
   "nbconvert_exporter": "python",
   "pygments_lexer": "ipython3",
   "version": "3.9.12"
  }
 },
 "nbformat": 4,
 "nbformat_minor": 5
}
