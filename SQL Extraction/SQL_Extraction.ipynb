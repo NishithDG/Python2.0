{
 "cells": [
  {
   "cell_type": "code",
   "execution_count": 20,
   "id": "3f5b0eac",
   "metadata": {},
   "outputs": [
    {
     "name": "stdout",
     "output_type": "stream",
     "text": [
      "sample_stored_procedure.json\n"
     ]
    }
   ],
   "source": [
    "import json\n",
    "import re\n",
    "import os\n",
    "\n",
    "filename = os.path.basename('sample_stored_procedure.sql')\n",
    "\n",
    "sql = open(filename,'r')\n",
    "sql_string = sql.read()\n",
    "    \n",
    "query_array = sql_string.split(';')\n",
    "json_list = []\n",
    "code_id = 1\n",
    "\n",
    "for each_query in query_array:\n",
    "    query_type = each_query.strip().split(' ')[0]\n",
    "    local_dictionary = {\n",
    "        \"statement_id\":code_id,\n",
    "        \"statement_type\":query_type,\n",
    "        \"target_table_name\":[]\n",
    "    }\n",
    "    \n",
    "    statements = each_query.splitlines()\n",
    "    for statement in statements:\n",
    "        for types in [\"FROM\",\"JOIN\"]:\n",
    "                if statement.find(types) != -1:\n",
    "                    table_name = statement.strip().split(types)[1]\n",
    "                    if table_name.find(\" \")!= -1:\n",
    "                        table_name\n",
    "                        \n",
    "                    if table_name.find(\".\")!= -1:\n",
    "                        table_name = statement.strip().split(\".\")[0]\n",
    "                        \n",
    "                    local_dictionary[\"target_table_name\"].append({\n",
    "                        \"type\":types,\n",
    "                        \"name\":table_name\n",
    "                    })\n",
    "        json_list.append(local_dictionary)\n",
    "        \n",
    "json_file = filename.replace('.sql','.json')\n",
    "with open(json_file,'w') as wf:\n",
    "    json.dump(json_list,wf,indent=3)\n",
    "    print(json_file)"
   ]
  },
  {
   "cell_type": "code",
   "execution_count": null,
   "id": "21a745d6",
   "metadata": {},
   "outputs": [],
   "source": []
  },
  {
   "cell_type": "code",
   "execution_count": null,
   "id": "b188dc10",
   "metadata": {},
   "outputs": [],
   "source": []
  }
 ],
 "metadata": {
  "kernelspec": {
   "display_name": "Python 3 (ipykernel)",
   "language": "python",
   "name": "python3"
  },
  "language_info": {
   "codemirror_mode": {
    "name": "ipython",
    "version": 3
   },
   "file_extension": ".py",
   "mimetype": "text/x-python",
   "name": "python",
   "nbconvert_exporter": "python",
   "pygments_lexer": "ipython3",
   "version": "3.9.12"
  }
 },
 "nbformat": 4,
 "nbformat_minor": 5
}
